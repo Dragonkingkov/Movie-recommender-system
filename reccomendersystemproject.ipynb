{
  "nbformat": 4,
  "nbformat_minor": 0,
  "metadata": {
    "colab": {
      "provenance": [],
      "authorship_tag": "ABX9TyNeSPOIlhaXdodpeLKwYBmy",
      "include_colab_link": true
    },
    "kernelspec": {
      "name": "python3",
      "display_name": "Python 3"
    },
    "language_info": {
      "name": "python"
    }
  },
  "cells": [
    {
      "cell_type": "markdown",
      "metadata": {
        "id": "view-in-github",
        "colab_type": "text"
      },
      "source": [
        "<a href=\"https://colab.research.google.com/github/Dragonkingkov/Movie-recommender-system/blob/main/reccomendersystemproject.ipynb\" target=\"_parent\"><img src=\"https://colab.research.google.com/assets/colab-badge.svg\" alt=\"Open In Colab\"/></a>"
      ]
    },
    {
      "cell_type": "code",
      "execution_count": null,
      "metadata": {
        "id": "1XsUPa-FIkNM"
      },
      "outputs": [],
      "source": [
        "import pandas as pd\n",
        "\n",
        "data=pd.read_csv('/content/full_movie_dataset_upto_2023')"
      ]
    },
    {
      "cell_type": "code",
      "source": [
        "from sklearn.feature_extraction.text import CountVectorizer\n",
        "from sklearn.metrics.pairwise import cosine_similarity\n",
        "\n",
        "def create_similarity(data):\n",
        "    cv = CountVectorizer()\n",
        "    count_matrix = cv.fit_transform(data['comb'])\n",
        "    similarity = cosine_similarity(count_matrix)\n",
        "    return similarity\n",
        "\n",
        "# Create the similarity matrix\n",
        "similarity = create_similarity(data)\n",
        "\n",
        "# Function to recommend similar movies\n",
        "def rcmd(movie_title):\n",
        "    movie_title = movie_title.lower()\n",
        "    if movie_title not in data['movie_title'].str.lower().unique():\n",
        "        return 'Sorry! Try another movie name.'\n",
        "\n",
        "    index = data[data['movie_title'].str.lower() == movie_title].index[0]\n",
        "    similar_indices = list(enumerate(similarity[index]))\n",
        "    sorted_similar_movies = sorted(similar_indices, key=lambda x: x[1], reverse=True)[1:11]\n",
        "    recommended_movies = [data['movie_title'].iloc[i[0]] for i in sorted_similar_movies]\n",
        "    return recommended_movies\n",
        "\n",
        "def get_suggestions(query):\n",
        "    query = query.lower()\n",
        "    suggestions = data[data['movie_title'].str.lower().str.contains(query)]\n",
        "    return suggestions['movie_title'].tolist()\n",
        "\n"
      ],
      "metadata": {
        "id": "JcT7KETKI1sO"
      },
      "execution_count": null,
      "outputs": []
    },
    {
      "cell_type": "code",
      "source": [
        "\n",
        "movie_input = input(\"Enter a movie name: \")\n",
        "recommendations = rcmd(movie_input)\n",
        "\n",
        "if isinstance(recommendations, str):  # If it's an error message\n",
        "    print(recommendations)\n",
        "else:\n",
        "    print(\"Recommended Movies:\")\n",
        "    for movie in recommendations:\n",
        "        print(movie)"
      ],
      "metadata": {
        "colab": {
          "base_uri": "https://localhost:8080/"
        },
        "id": "yDZ13fvVJBLF",
        "outputId": "01adcca8-fe3e-4d91-b607-4ba08910ec0e"
      },
      "execution_count": null,
      "outputs": [
        {
          "output_type": "stream",
          "name": "stdout",
          "text": [
            "Enter a movie name: the wolverine\n",
            "Recommended Movies:\n",
            "X-Men: The Last Stand\n",
            "X-Men: Days of Future Past\n",
            "X-Men Origins: Wolverine\n",
            "X-Men 2\n",
            "X-Men\n",
            "Lockout\n",
            "Allegiant\n",
            "Mad Max\n",
            "Chappie\n",
            "Dragonball: Evolution\n"
          ]
        }
      ]
    },
    {
      "cell_type": "code",
      "source": [],
      "metadata": {
        "id": "CaDP0WEdJVLP"
      },
      "execution_count": null,
      "outputs": []
    }
  ]
}